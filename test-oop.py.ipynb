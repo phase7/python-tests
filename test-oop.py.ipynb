{
 "cells": [
  {
   "cell_type": "code",
   "execution_count": 36,
   "metadata": {},
   "outputs": [
    {
     "name": "stdout",
     "output_type": "stream",
     "text": [
      "1/60\n",
      "6/360\n",
      "1/30\n"
     ]
    }
   ],
   "source": [
    "from math import gcd\n",
    "def lcm(a, b):\n",
    "        return (a * b) // gcd(a, b)\n",
    "class fraction:\n",
    "    def __init__(self, top, bottom ):\n",
    "        self.num = top\n",
    "        self.den = bottom\n",
    "    def __str__(self):\n",
    "        if (self.den == 1): return str(int(self.num))\n",
    "        ret = str((self.num)) + \"/\" + str((self.den))\n",
    "        return ret\n",
    "    def __add__(self, ob):\n",
    "        if isinstance(ob, fraction):\n",
    "            denm = lcm(self.den, ob.den)\n",
    "            nume = denm//self.den*self.num + denm//ob.den*ob.num\n",
    "            \n",
    "            gcdb = gcd((denm), (nume))\n",
    "            \n",
    "            denm = denm//gcdb\n",
    "            nume = nume // gcdb\n",
    "            return self.__class__(nume, denm)\n",
    "\n",
    "var1 = fraction(1,60)\n",
    "print(var1)\n",
    "\n",
    "var2 = fraction(6,360)\n",
    "print(var2)\n",
    "\n",
    "var3 = var1+ var2\n",
    "print(var3)"
   ]
  },
  {
   "cell_type": "code",
   "execution_count": 37,
   "metadata": {},
   "outputs": [
    {
     "name": "stdout",
     "output_type": "stream",
     "text": [
      "89\n"
     ]
    }
   ],
   "source": [
    "print(fraction(89,1))"
   ]
  }
 ],
 "metadata": {
  "kernelspec": {
   "display_name": "Python 3",
   "language": "python",
   "name": "python3"
  },
  "language_info": {
   "codemirror_mode": {
    "name": "ipython",
    "version": 3
   },
   "file_extension": ".py",
   "mimetype": "text/x-python",
   "name": "python",
   "nbconvert_exporter": "python",
   "pygments_lexer": "ipython3",
   "version": "3.7.1"
  }
 },
 "nbformat": 4,
 "nbformat_minor": 2
}
