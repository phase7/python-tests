{
 "cells": [
  {
   "cell_type": "markdown",
   "metadata": {},
   "source": [
    "### Saving base directory"
   ]
  },
  {
   "cell_type": "code",
   "execution_count": 1,
   "metadata": {},
   "outputs": [
    {
     "data": {
      "text/plain": [
       "'/mnt/9439c024-e4c1-4178-81f7-44a8e3f2c862/links (git)/python-tests/notebook/new-comm-json'"
      ]
     },
     "execution_count": 1,
     "metadata": {},
     "output_type": "execute_result"
    }
   ],
   "source": [
    "import os,json,io\n",
    "base = os.getcwd()\n",
    "base"
   ]
  },
  {
   "cell_type": "markdown",
   "metadata": {},
   "source": [
    "### Going into each match and eventually the subfolders"
   ]
  },
  {
   "cell_type": "code",
   "execution_count": 10,
   "metadata": {},
   "outputs": [],
   "source": [
    "matches = [f for f in os.scandir(base) if f.is_dir() and 'checkpoints' not in f.path]; #python 3.5+\n"
   ]
  },
  {
   "cell_type": "code",
   "execution_count": 14,
   "metadata": {
    "collapsed": true
   },
   "outputs": [
    {
     "name": "stdout",
     "output_type": "stream",
     "text": [
      "moving to /mnt/9439c024-e4c1-4178-81f7-44a8e3f2c862/links (git)/python-tests/notebook/new-comm-json/1130737\n",
      "moving to /mnt/9439c024-e4c1-4178-81f7-44a8e3f2c862/links (git)/python-tests/notebook/new-comm-json/1130737/innings01\n",
      "opening comm_part1.json\n",
      "{'match_id': '1130737'}\n",
      "opening comm_part5.json\n",
      "{'match_id': '1130737'}\n",
      "opening comm_part7.json\n",
      "{'match_id': '1130737'}\n",
      "opening comm_part11.json\n",
      "{'match_id': '1130737'}\n",
      "opening comm_part9.json\n",
      "{'match_id': '1130737'}\n",
      "opening comm_part13.json\n",
      "{'match_id': '1130737'}\n",
      "opening comm_part3.json\n",
      "{'match_id': '1130737'}\n",
      "opening comm_part2.json\n",
      "{'match_id': '1130737'}\n",
      "opening comm_part4.json\n",
      "{'match_id': '1130737'}\n",
      "opening comm_part6.json\n",
      "{'match_id': '1130737'}\n",
      "opening comm_part10.json\n",
      "{'match_id': '1130737'}\n",
      "opening comm_part12.json\n",
      "{'match_id': '1130737'}\n",
      "opening comm_part8.json\n",
      "{'match_id': '1130737'}\n",
      "moving to /mnt/9439c024-e4c1-4178-81f7-44a8e3f2c862/links (git)/python-tests/notebook/new-comm-json/1130737/innings02\n",
      "opening comm_part1.json\n",
      "{'match_id': '1130737'}\n",
      "opening comm_part5.json\n",
      "{'match_id': '1130737'}\n",
      "opening comm_part7.json\n",
      "{'match_id': '1130737'}\n",
      "opening comm_part3.json\n",
      "{'match_id': '1130737'}\n",
      "opening comm_part2.json\n",
      "{'match_id': '1130737'}\n",
      "opening comm_part4.json\n",
      "{'match_id': '1130737'}\n",
      "opening comm_part6.json\n",
      "{'match_id': '1130737'}\n",
      "opening comm_part8.json\n",
      "{'match_id': '1130737'}\n"
     ]
    }
   ],
   "source": [
    "for match in matches:\n",
    "    os.chdir(match.path);\n",
    "    ndata = dict()\n",
    "    ndata['match_id'] = match.name\n",
    "    print (\"moving to \"+match.path);\n",
    "    innings = [f.path for f in os.scandir(match.path) if f.is_dir()]\n",
    "    for single_innings in innings:\n",
    "        os.chdir(single_innings);\n",
    "        print (\"moving to \"+single_innings);\n",
    "        for jsonfile in os.listdir():\n",
    "            print(\"opening \" + jsonfile)\n",
    "            with io.open(jsonfile, 'r') as file:\n",
    "                data = json.load(file)\n",
    "                #print(ndata)\n",
    "        "
   ]
  },
  {
   "cell_type": "code",
   "execution_count": null,
   "metadata": {},
   "outputs": [],
   "source": []
  }
 ],
 "metadata": {
  "kernelspec": {
   "display_name": "Python 3",
   "language": "python",
   "name": "python3"
  },
  "language_info": {
   "codemirror_mode": {
    "name": "ipython",
    "version": 3
   },
   "file_extension": ".py",
   "mimetype": "text/x-python",
   "name": "python",
   "nbconvert_exporter": "python",
   "pygments_lexer": "ipython3",
   "version": "3.6.8"
  }
 },
 "nbformat": 4,
 "nbformat_minor": 2
}
