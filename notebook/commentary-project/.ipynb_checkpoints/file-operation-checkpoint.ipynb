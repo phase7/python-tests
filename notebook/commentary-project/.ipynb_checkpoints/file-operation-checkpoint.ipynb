{
 "cells": [
  {
   "cell_type": "code",
   "execution_count": 3,
   "metadata": {},
   "outputs": [
    {
     "data": {
      "text/plain": [
       "['.ipynb_checkpoints',\n",
       " 'comm0.json',\n",
       " 'comm1.json',\n",
       " 'comm10.json',\n",
       " 'comm11.json',\n",
       " 'comm2.json',\n",
       " 'comm3.json',\n",
       " 'comm4.json',\n",
       " 'comm5.json',\n",
       " 'comm6.json',\n",
       " 'comm7.json',\n",
       " 'comm8.json',\n",
       " 'comm9.json',\n",
       " 'download-commentary.ipynb',\n",
       " 'file-create-test.ipynb',\n",
       " 'get-all-commentaries.ipynb',\n",
       " 'json-from-file.ipynb',\n",
       " 'new.json',\n",
       " 'Untitled.ipynb']"
      ]
     },
     "execution_count": 3,
     "metadata": {},
     "output_type": "execute_result"
    }
   ],
   "source": [
    "from os import *\n",
    "listdir()"
   ]
  },
  {
   "cell_type": "code",
   "execution_count": 7,
   "metadata": {},
   "outputs": [
    {
     "data": {
      "text/plain": [
       "'/media/p7/4C1C42351C4219FA/WD/from-github/python-tests/notebook'"
      ]
     },
     "execution_count": 7,
     "metadata": {},
     "output_type": "execute_result"
    }
   ],
   "source": [
    "os.path.normpath(os.getcwd() + os.sep + os.pardir)\n"
   ]
  },
  {
   "cell_type": "code",
   "execution_count": 8,
   "metadata": {},
   "outputs": [
    {
     "data": {
      "text/plain": [
       "'/media/p7/4C1C42351C4219FA/WD/from-github/python-tests/notebook/commentary-project'"
      ]
     },
     "execution_count": 8,
     "metadata": {},
     "output_type": "execute_result"
    }
   ],
   "source": [
    "getcwd()"
   ]
  },
  {
   "cell_type": "code",
   "execution_count": null,
   "metadata": {},
   "outputs": [],
   "source": []
  }
 ],
 "metadata": {
  "kernelspec": {
   "display_name": "Python 3",
   "language": "python",
   "name": "python3"
  },
  "language_info": {
   "codemirror_mode": {
    "name": "ipython",
    "version": 3
   },
   "file_extension": ".py",
   "mimetype": "text/x-python",
   "name": "python",
   "nbconvert_exporter": "python",
   "pygments_lexer": "ipython3",
   "version": "3.6.7"
  }
 },
 "nbformat": 4,
 "nbformat_minor": 2
}
