{
 "cells": [
  {
   "cell_type": "code",
   "execution_count": 2,
   "metadata": {},
   "outputs": [
    {
     "name": "stdout",
     "output_type": "stream",
     "text": [
      "1130737\n",
      "1130739\n",
      "1130741\n",
      "1130742\n",
      "1130743\n",
      "1146720\n",
      "1146721\n",
      "1146722\n",
      "1153243\n",
      "1153248\n",
      "1153249\n",
      "1153252\n",
      "1153254\n",
      "1153255\n",
      "1153635\n",
      "1153636\n",
      "1153637\n",
      "1153314\n",
      "1153315\n",
      "1153316\n",
      "1153844\n",
      "1153845\n",
      "1153846\n",
      "1168509\n",
      "1168512\n",
      "1168513\n",
      "1168514\n",
      "1144487\n",
      "1144491\n",
      "0\n"
     ]
    }
   ],
   "source": [
    "lst = []\n",
    "while True:\n",
    "    tmp_val = int(input())\n",
    "    if tmp_val:\n",
    "        lst.append(tmp_val)\n",
    "    else:\n",
    "        break"
   ]
  },
  {
   "cell_type": "code",
   "execution_count": 4,
   "metadata": {},
   "outputs": [
    {
     "data": {
      "text/plain": [
       "29"
      ]
     },
     "execution_count": 4,
     "metadata": {},
     "output_type": "execute_result"
    }
   ],
   "source": [
    "len(lst)"
   ]
  },
  {
   "cell_type": "code",
   "execution_count": 8,
   "metadata": {},
   "outputs": [],
   "source": [
    "import json\n",
    "with open(\"match_ids.json\", 'w') as file:\n",
    "    json.dump(lst,file)"
   ]
  },
  {
   "cell_type": "code",
   "execution_count": 1,
   "metadata": {},
   "outputs": [],
   "source": [
    "import json\n",
    "with open(\"match_ids.json\", \"r\") as file:\n",
    "    matches = json.load(file)"
   ]
  },
  {
   "cell_type": "code",
   "execution_count": 2,
   "metadata": {},
   "outputs": [
    {
     "data": {
      "text/plain": [
       "list"
      ]
     },
     "execution_count": 2,
     "metadata": {},
     "output_type": "execute_result"
    }
   ],
   "source": [
    "type(matches)"
   ]
  },
  {
   "cell_type": "code",
   "execution_count": 3,
   "metadata": {},
   "outputs": [
    {
     "data": {
      "text/plain": [
       "[1130737,\n",
       " 1130739,\n",
       " 1130741,\n",
       " 1130742,\n",
       " 1130743,\n",
       " 1146720,\n",
       " 1146721,\n",
       " 1146722,\n",
       " 1153243,\n",
       " 1153248,\n",
       " 1153249,\n",
       " 1153252,\n",
       " 1153254,\n",
       " 1153255,\n",
       " 1153635,\n",
       " 1153636,\n",
       " 1153637,\n",
       " 1153314,\n",
       " 1153315,\n",
       " 1153316,\n",
       " 1153844,\n",
       " 1153845,\n",
       " 1153846,\n",
       " 1168509,\n",
       " 1168512,\n",
       " 1168513,\n",
       " 1168514,\n",
       " 1144487,\n",
       " 1144491]"
      ]
     },
     "execution_count": 3,
     "metadata": {},
     "output_type": "execute_result"
    }
   ],
   "source": [
    "matches"
   ]
  }
 ],
 "metadata": {
  "kernelspec": {
   "display_name": "Python 3",
   "language": "python",
   "name": "python3"
  },
  "language_info": {
   "codemirror_mode": {
    "name": "ipython",
    "version": 3
   },
   "file_extension": ".py",
   "mimetype": "text/x-python",
   "name": "python",
   "nbconvert_exporter": "python",
   "pygments_lexer": "ipython3",
   "version": "3.6.7"
  }
 },
 "nbformat": 4,
 "nbformat_minor": 2
}
