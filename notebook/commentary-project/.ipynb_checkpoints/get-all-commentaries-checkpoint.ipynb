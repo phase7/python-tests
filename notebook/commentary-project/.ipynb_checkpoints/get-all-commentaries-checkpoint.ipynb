{
 "cells": [
  {
   "cell_type": "markdown",
   "metadata": {},
   "source": [
    "## Get all available commentaries"
   ]
  },
  {
   "cell_type": "code",
   "execution_count": 4,
   "metadata": {},
   "outputs": [
    {
     "name": "stderr",
     "output_type": "stream",
     "text": [
      "ERROR:root:Internal Python error in the inspect module.\n",
      "Below is the traceback from this internal error.\n",
      "\n"
     ]
    },
    {
     "name": "stdout",
     "output_type": "stream",
     "text": [
      "Traceback (most recent call last):\n",
      "  File \"/home/phase7/.local/lib/python3.6/site-packages/IPython/core/interactiveshell.py\", line 3296, in run_code\n",
      "    exec(code_obj, self.user_global_ns, self.user_ns)\n",
      "  File \"<ipython-input-4-5cafb90ccc43>\", line 6, in <module>\n",
      "    base_dir = os.getcwd()\n",
      "FileNotFoundError: [Errno 2] No such file or directory\n",
      "\n",
      "During handling of the above exception, another exception occurred:\n",
      "\n",
      "Traceback (most recent call last):\n",
      "  File \"/home/phase7/.local/lib/python3.6/site-packages/IPython/core/interactiveshell.py\", line 2033, in showtraceback\n",
      "    stb = value._render_traceback_()\n",
      "AttributeError: 'FileNotFoundError' object has no attribute '_render_traceback_'\n",
      "\n",
      "During handling of the above exception, another exception occurred:\n",
      "\n",
      "Traceback (most recent call last):\n",
      "  File \"/home/phase7/.local/lib/python3.6/site-packages/IPython/core/ultratb.py\", line 1095, in get_records\n",
      "    return _fixed_getinnerframes(etb, number_of_lines_of_context, tb_offset)\n",
      "  File \"/home/phase7/.local/lib/python3.6/site-packages/IPython/core/ultratb.py\", line 313, in wrapped\n",
      "    return f(*args, **kwargs)\n",
      "  File \"/home/phase7/.local/lib/python3.6/site-packages/IPython/core/ultratb.py\", line 347, in _fixed_getinnerframes\n",
      "    records = fix_frame_records_filenames(inspect.getinnerframes(etb, context))\n",
      "  File \"/usr/lib/python3.6/inspect.py\", line 1490, in getinnerframes\n",
      "    frameinfo = (tb.tb_frame,) + getframeinfo(tb, context)\n",
      "  File \"/usr/lib/python3.6/inspect.py\", line 1448, in getframeinfo\n",
      "    filename = getsourcefile(frame) or getfile(frame)\n",
      "  File \"/usr/lib/python3.6/inspect.py\", line 696, in getsourcefile\n",
      "    if getattr(getmodule(object, filename), '__loader__', None) is not None:\n",
      "  File \"/usr/lib/python3.6/inspect.py\", line 725, in getmodule\n",
      "    file = getabsfile(object, _filename)\n",
      "  File \"/usr/lib/python3.6/inspect.py\", line 709, in getabsfile\n",
      "    return os.path.normcase(os.path.abspath(_filename))\n",
      "  File \"/usr/lib/python3.6/posixpath.py\", line 383, in abspath\n",
      "    cwd = os.getcwd()\n",
      "FileNotFoundError: [Errno 2] No such file or directory\n"
     ]
    },
    {
     "ename": "FileNotFoundError",
     "evalue": "[Errno 2] No such file or directory",
     "output_type": "error",
     "traceback": [
      "\u001b[0;31m---------------------------------------------------------------------------\u001b[0m"
     ]
    }
   ],
   "source": [
    "import requests\n",
    "import json\n",
    "import os\n",
    "import io\n",
    "\n",
    "base_dir = os.getcwd()\n",
    "db_folder_name = \"commentaries_db\"\n",
    "# if os.getcwd() != base_dir:\n",
    "#     os.chdir(base_dir)\n",
    "with io.open(\"match_ids.json\", \"r\") as file:\n",
    "    matches = json.load(file)\n",
    "innings_total = [1,2]\n",
    "\n",
    "\n",
    "\n",
    "for match_id in matches:\n",
    "    meta = requests.get('http://www.espncricinfo.com/series/engine/match/'+str(match_id)+'.json')\n",
    "    meta_data = meta.json()\n",
    "    print(meta_data['description'])   \n",
    "    os.chdir(os.path.join(base_dir, db_folder_name))\n",
    "    match_dir_name = str(match_id)\n",
    "    \n",
    "    if not os.path.exists(match_dir_name):\n",
    "            os.mkdir(match_dir_name)\n",
    "            \n",
    "    os.chdir(match_dir_name) \n",
    "    \n",
    "    for innings in innings_total:\n",
    "        innings_dir_name = \"innings0\"+str(innings)\n",
    "        \n",
    "        if not os.path.exists(innings_dir_name):\n",
    "            os.mkdir(innings_dir_name)\n",
    "            \n",
    "        os.chdir(innings_dir_name)\n",
    "        j=1 #start/restart with a non-zero number\n",
    "        \n",
    "        while(j):\n",
    "            apistr = 'http://site.web.api.espn.com/apis/site/v2/sports/cricket/5/playbyplay?contentorigin=espn&event='+ str(match_id) +'&page=' + str(j) + '&period='+str(innings)+'&section=cricinfo'\n",
    "            r = requests.get(apistr)\n",
    "            data = r.json()\n",
    "            \n",
    "            items = data[\"commentary\"][\"items\"]\n",
    "            \n",
    "            if  len(items) == 0:\n",
    "                j = 0\n",
    "                os.chdir(\"..\")\n",
    "                continue \n",
    "            #my work goes here--------------------------\n",
    "            with io.open(\"comm_part\"+str(j)+\".json\", \"w\") as file:\n",
    "                json.dump(data,file)\n",
    "\n",
    "            j += 1\n"
   ]
  },
  {
   "cell_type": "code",
   "execution_count": null,
   "metadata": {},
   "outputs": [],
   "source": []
  },
  {
   "cell_type": "code",
   "execution_count": null,
   "metadata": {},
   "outputs": [],
   "source": []
  }
 ],
 "metadata": {
  "kernelspec": {
   "display_name": "Python 3",
   "language": "python",
   "name": "python3"
  },
  "language_info": {
   "codemirror_mode": {
    "name": "ipython",
    "version": 3
   },
   "file_extension": ".py",
   "mimetype": "text/x-python",
   "name": "python",
   "nbconvert_exporter": "python",
   "pygments_lexer": "ipython3",
   "version": "3.6.8"
  }
 },
 "nbformat": 4,
 "nbformat_minor": 2
}
