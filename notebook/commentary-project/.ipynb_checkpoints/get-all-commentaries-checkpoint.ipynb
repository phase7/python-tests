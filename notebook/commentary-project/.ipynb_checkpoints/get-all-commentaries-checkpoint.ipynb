{
 "cells": [
  {
   "cell_type": "markdown",
   "metadata": {},
   "source": [
    "## Create api"
   ]
  },
  {
   "cell_type": "code",
   "execution_count": 1,
   "metadata": {},
   "outputs": [],
   "source": [
    "import requests\n",
    "import json\n",
    "from os import *"
   ]
  },
  {
   "cell_type": "code",
   "execution_count": 28,
   "metadata": {},
   "outputs": [
    {
     "name": "stdout",
     "output_type": "stream",
     "text": [
      "1 25 \n",
      "\n",
      "2 25 \n",
      "\n",
      "3 25 \n",
      "\n",
      "4 25 \n",
      "\n",
      "5 25 \n",
      "\n",
      "6 25 \n",
      "\n",
      "7 25 \n",
      "\n",
      "8 25 \n",
      "\n",
      "9 25 \n",
      "\n",
      "10 25 \n",
      "\n",
      "11 25 \n",
      "\n",
      "12 25 \n",
      "\n",
      "13 5 \n",
      "\n"
     ]
    }
   ],
   "source": [
    "match_id = 1144491\n",
    "innings = [1,2]\n",
    "j=1 #start with a non-zero number\n",
    "for innings in innings:\n",
    "    while(j):\n",
    "        apistr = 'http://site.web.api.espn.com/apis/site/v2/sports/cricket/5/playbyplay?contentorigin=espn&event='+ str(match_id) +'&page=' + str(j) + '&period='+str(innings)+'&section=cricinfo'\n",
    "        r = requests.get(apistr)\n",
    "        data = r.json()\n",
    "        items_count = len(data[\"commentary\"][\"items\"])\n",
    "        if items_count == 0:\n",
    "            j = 0\n",
    "            continue\n",
    "        print(j, items_count, \"\\n\") #my work goes here\n",
    "        j += 1\n",
    "        if items_count == 0:\n",
    "            j = 0\n"
   ]
  },
  {
   "cell_type": "code",
   "execution_count": 17,
   "metadata": {},
   "outputs": [
    {
     "data": {
      "text/plain": [
       "'http://site.web.api.espn.com/apis/site/v2/sports/cricket/5/playbyplay?contentorigin=espn&event=1144491&page=15&period=2&section=cricinfo'"
      ]
     },
     "execution_count": 17,
     "metadata": {},
     "output_type": "execute_result"
    }
   ],
   "source": [
    "apistr"
   ]
  },
  {
   "cell_type": "code",
   "execution_count": 13,
   "metadata": {},
   "outputs": [
    {
     "data": {
      "text/plain": [
       "2"
      ]
     },
     "execution_count": 13,
     "metadata": {},
     "output_type": "execute_result"
    }
   ],
   "source": [
    "data[\"commentary\"][\"pageIndex\"]"
   ]
  },
  {
   "cell_type": "code",
   "execution_count": 2,
   "metadata": {},
   "outputs": [
    {
     "name": "stdout",
     "output_type": "stream",
     "text": [
      "Series Id: 11122\n",
      "Match Id: 1168509\n",
      "http://site.web.api.espn.com/apis/site/v2/sports/cricket/11122/playbyplay?contentorigin=espn&event=1168509&page=7&period=1&section=cricinfo\n"
     ]
    }
   ],
   "source": [
    "# print (\"Series Id: \", end='')\n",
    "# series = input()\n",
    "print (\"Match Id: \", end = '')\n",
    "match = input()\n",
    "j = 7\n",
    "# apistr = 'http://site.web.api.espn.com/apis/site/v2/sports/cricket/5/playbyplay?contentorigin=espn&event='+ match +'&page=' + str(j) + '&period='+innings+'&section=cricinfo'\n",
    "print(apistr)"
   ]
  }
 ],
 "metadata": {
  "kernelspec": {
   "display_name": "Python 3",
   "language": "python",
   "name": "python3"
  },
  "language_info": {
   "codemirror_mode": {
    "name": "ipython",
    "version": 3
   },
   "file_extension": ".py",
   "mimetype": "text/x-python",
   "name": "python",
   "nbconvert_exporter": "python",
   "pygments_lexer": "ipython3",
   "version": "3.6.7"
  }
 },
 "nbformat": 4,
 "nbformat_minor": 2
}
