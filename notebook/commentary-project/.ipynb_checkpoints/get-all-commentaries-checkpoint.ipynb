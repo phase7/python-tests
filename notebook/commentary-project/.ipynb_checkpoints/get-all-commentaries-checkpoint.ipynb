{
 "cells": [
  {
   "cell_type": "markdown",
   "metadata": {},
   "source": [
    "## Create api"
   ]
  },
  {
   "cell_type": "code",
   "execution_count": 26,
   "metadata": {},
   "outputs": [],
   "source": [
    "import requests\n",
    "import json\n",
    "import os\n",
    "import io\n",
    "\n",
    "match_id = 1144491\n",
    "innings = [1,2]\n",
    "\n",
    "os.chdir('/media/p7/4C1C42351C4219FA/WD/from-github/python-tests/notebook/commentary-project/commentaries1')\n",
    "\n",
    "for innings in innings:\n",
    "    innings_dir_name = \"innings0\"+str(innings)\n",
    "    os.mkdir(innings_dir_name)\n",
    "    os.chdir(innings_dir_name)\n",
    "    j=1 #start/restart with a non-zero number\n",
    "    while(j):\n",
    "        apistr = 'http://site.web.api.espn.com/apis/site/v2/sports/cricket/5/playbyplay?contentorigin=espn&event='+ str(match_id) +'&page=' + str(j) + '&period='+str(innings)+'&section=cricinfo'\n",
    "        r = requests.get(apistr)\n",
    "        data = r.json()\n",
    "        items = data[\"commentary\"][\"items\"]\n",
    "        if  len(items) == 0:\n",
    "            j = 0\n",
    "            os.chdir(\"..\")\n",
    "            continue\n",
    "        #my work goes here--------------------------\n",
    "        with io.open(\"comm_part\"+str(j)+\".json\", \"w\") as file:\n",
    "            json.dump(data,file)\n",
    "            \n",
    "        j += 1\n",
    "        "
   ]
  },
  {
   "cell_type": "code",
   "execution_count": 13,
   "metadata": {},
   "outputs": [
    {
     "data": {
      "text/plain": [
       "['.ipynb_checkpoints',\n",
       " 'comm0.json',\n",
       " 'comm1.json',\n",
       " 'comm10.json',\n",
       " 'comm11.json',\n",
       " 'comm2.json',\n",
       " 'comm3.json',\n",
       " 'comm4.json',\n",
       " 'comm5.json',\n",
       " 'comm6.json',\n",
       " 'comm7.json',\n",
       " 'comm8.json',\n",
       " 'comm9.json',\n",
       " 'commentaries1',\n",
       " 'download-commentary.ipynb',\n",
       " 'file-operation.ipynb',\n",
       " 'get-all-commentaries-old.ipynb',\n",
       " 'get-all-commentaries.ipynb',\n",
       " 'json-from-file.ipynb',\n",
       " 'match-ids.ipynb',\n",
       " 'match_ids.json',\n",
       " 'new.json',\n",
       " 'remove-html.ipynb']"
      ]
     },
     "execution_count": 13,
     "metadata": {},
     "output_type": "execute_result"
    }
   ],
   "source": [
    "listdir()"
   ]
  },
  {
   "cell_type": "code",
   "execution_count": 2,
   "metadata": {},
   "outputs": [
    {
     "name": "stdout",
     "output_type": "stream",
     "text": [
      "Series Id: 11122\n",
      "Match Id: 1168509\n",
      "http://site.web.api.espn.com/apis/site/v2/sports/cricket/11122/playbyplay?contentorigin=espn&event=1168509&page=7&period=1&section=cricinfo\n"
     ]
    }
   ],
   "source": [
    "# print (\"Series Id: \", end='')\n",
    "# series = input()\n",
    "print (\"Match Id: \", end = '')\n",
    "match = input()\n",
    "j = 7\n",
    "# apistr = 'http://site.web.api.espn.com/apis/site/v2/sports/cricket/5/playbyplay?contentorigin=espn&event='+ match +'&page=' + str(j) + '&period='+innings+'&section=cricinfo'\n",
    "print(apistr)"
   ]
  }
 ],
 "metadata": {
  "kernelspec": {
   "display_name": "Python 3",
   "language": "python",
   "name": "python3"
  },
  "language_info": {
   "codemirror_mode": {
    "name": "ipython",
    "version": 3
   },
   "file_extension": ".py",
   "mimetype": "text/x-python",
   "name": "python",
   "nbconvert_exporter": "python",
   "pygments_lexer": "ipython3",
   "version": "3.6.7"
  }
 },
 "nbformat": 4,
 "nbformat_minor": 2
}
