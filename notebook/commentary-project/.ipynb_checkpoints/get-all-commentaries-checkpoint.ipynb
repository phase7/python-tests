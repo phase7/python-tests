{
 "cells": [
  {
   "cell_type": "markdown",
   "metadata": {},
   "source": [
    "## Create api"
   ]
  },
  {
   "cell_type": "code",
   "execution_count": 1,
   "metadata": {},
   "outputs": [],
   "source": [
    "import requests\n",
    "import json\n",
    "import os\n",
    "import io\n",
    "base_dir = os.getcwd()\n",
    "db_folder_name = \"commentaries1\"\n",
    "# if os.getcwd() != base_dir:\n",
    "#     os.chdir(base_dir)\n",
    "with io.open(\"match_ids.json\", \"r\") as file:\n",
    "    matches = json.load(file)\n",
    "innings_total = [1,2]\n",
    "\n",
    "\n",
    "\n",
    "for match_id in matches:\n",
    "    os.chdir(os.path.join(base_dir, db_folder_name))\n",
    "    match_dir_name = str(match_id)\n",
    "    \n",
    "    if not os.path.exists(match_dir_name):\n",
    "            os.mkdir(match_dir_name)\n",
    "            \n",
    "    os.chdir(match_dir_name) \n",
    "    \n",
    "    for innings in innings_total:\n",
    "        innings_dir_name = \"innings0\"+str(innings)\n",
    "        \n",
    "        if not os.path.exists(innings_dir_name):\n",
    "            os.mkdir(innings_dir_name)\n",
    "            \n",
    "        os.chdir(innings_dir_name)\n",
    "        j=1 #start/restart with a non-zero number\n",
    "        \n",
    "        while(j):\n",
    "            apistr = 'http://site.web.api.espn.com/apis/site/v2/sports/cricket/5/playbyplay?contentorigin=espn&event='+ str(match_id) +'&page=' + str(j) + '&period='+str(innings)+'&section=cricinfo'\n",
    "            r = requests.get(apistr)\n",
    "            data = r.json()\n",
    "            items = data[\"commentary\"][\"items\"]\n",
    "            \n",
    "            if  len(items) == 0:\n",
    "                j = 0\n",
    "                os.chdir(\"..\")\n",
    "                continue\n",
    "                \n",
    "            #my work goes here--------------------------\n",
    "            with io.open(\"comm_part\"+str(j)+\".json\", \"w\") as file:\n",
    "                json.dump(data,file)\n",
    "\n",
    "            j += 1\n",
    "        "
   ]
  },
  {
   "cell_type": "code",
   "execution_count": 2,
   "metadata": {},
   "outputs": [
    {
     "data": {
      "text/plain": [
       "<Response [200]>"
      ]
     },
     "execution_count": 2,
     "metadata": {},
     "output_type": "execute_result"
    }
   ],
   "source": [
    "r"
   ]
  },
  {
   "cell_type": "code",
   "execution_count": 3,
   "metadata": {},
   "outputs": [
    {
     "data": {
      "text/plain": [
       "'/media/p7/4C1C42351C4219FA/WD/from-github/python-tests/notebook/commentary-project/commentaries1'"
      ]
     },
     "execution_count": 3,
     "metadata": {},
     "output_type": "execute_result"
    }
   ],
   "source": [
    "os.getcwd()"
   ]
  }
 ],
 "metadata": {
  "kernelspec": {
   "display_name": "Python 3",
   "language": "python",
   "name": "python3"
  },
  "language_info": {
   "codemirror_mode": {
    "name": "ipython",
    "version": 3
   },
   "file_extension": ".py",
   "mimetype": "text/x-python",
   "name": "python",
   "nbconvert_exporter": "python",
   "pygments_lexer": "ipython3",
   "version": "3.6.7"
  }
 },
 "nbformat": 4,
 "nbformat_minor": 2
}
