{
 "cells": [
  {
   "cell_type": "markdown",
   "metadata": {},
   "source": [
    "## Create api"
   ]
  },
  {
   "cell_type": "code",
   "execution_count": 26,
   "metadata": {},
   "outputs": [],
   "source": [
    "import requests\n",
    "import json\n",
    "import os\n",
    "import io\n",
    "\n",
    "match_id = 1144491\n",
    "innings = [1,2]\n",
    "\n",
    "os.chdir('/media/p7/4C1C42351C4219FA/WD/from-github/python-tests/notebook/commentary-project/commentaries1')\n",
    "\n",
    "for innings in innings:\n",
    "    innings_dir_name = \"innings0\"+str(innings)\n",
    "    os.mkdir(innings_dir_name)\n",
    "    os.chdir(innings_dir_name)\n",
    "    j=1 #start/restart with a non-zero number\n",
    "    while(j):\n",
    "        apistr = 'http://site.web.api.espn.com/apis/site/v2/sports/cricket/5/playbyplay?contentorigin=espn&event='+ str(match_id) +'&page=' + str(j) + '&period='+str(innings)+'&section=cricinfo'\n",
    "        r = requests.get(apistr)\n",
    "        data = r.json()\n",
    "        items = data[\"commentary\"][\"items\"]\n",
    "        if  len(items) == 0:\n",
    "            j = 0\n",
    "            os.chdir(\"..\")\n",
    "            continue\n",
    "        #my work goes here--------------------------\n",
    "        with io.open(\"comm_part\"+str(j)+\".json\", \"w\") as file:\n",
    "            json.dump(data,file)\n",
    "            \n",
    "        j += 1\n",
    "        "
   ]
  }
 ],
 "metadata": {
  "kernelspec": {
   "display_name": "Python 3",
   "language": "python",
   "name": "python3"
  },
  "language_info": {
   "codemirror_mode": {
    "name": "ipython",
    "version": 3
   },
   "file_extension": ".py",
   "mimetype": "text/x-python",
   "name": "python",
   "nbconvert_exporter": "python",
   "pygments_lexer": "ipython3",
   "version": "3.6.7"
  }
 },
 "nbformat": 4,
 "nbformat_minor": 2
}
