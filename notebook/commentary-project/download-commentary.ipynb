{
 "cells": [
  {
   "cell_type": "code",
   "execution_count": 1,
   "metadata": {},
   "outputs": [],
   "source": [
    "import requests\n",
    "import json\n",
    "import os\n",
    "\n",
    "os.mkdir(\"newdir\")\n",
    "os.chdir(\"newdir\")\n",
    "for j in range(3,12):\n",
    "    apistring = 'http://site.web.api.espn.com/apis/site/v2/sports/cricket/18815/playbyplay?contentorigin=espn&event=1153635&page=' + str(j) + '&period=1&section=cricinfo'\n",
    "\n",
    "    r = requests.get(apistring)\n",
    "    data = json.loads(r.text)\n",
    "\n",
    "\n",
    "    with open(\"comm\"+str(j)+\".json\", \"w\") as file:\n",
    "        file.write(json.dumps(data, indent = 2))"
   ]
  }
 ],
 "metadata": {
  "kernelspec": {
   "display_name": "Python 3",
   "language": "python",
   "name": "python3"
  },
  "language_info": {
   "codemirror_mode": {
    "name": "ipython",
    "version": 3
   },
   "file_extension": ".py",
   "mimetype": "text/x-python",
   "name": "python",
   "nbconvert_exporter": "python",
   "pygments_lexer": "ipython3",
   "version": "3.6.7"
  }
 },
 "nbformat": 4,
 "nbformat_minor": 2
}
