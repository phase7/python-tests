{
 "cells": [
  {
   "cell_type": "code",
   "execution_count": 3,
   "metadata": {},
   "outputs": [
    {
     "data": {
      "text/plain": [
       "['.ipynb_checkpoints',\n",
       " 'comm0.json',\n",
       " 'comm1.json',\n",
       " 'comm10.json',\n",
       " 'comm11.json',\n",
       " 'comm2.json',\n",
       " 'comm3.json',\n",
       " 'comm4.json',\n",
       " 'comm5.json',\n",
       " 'comm6.json',\n",
       " 'comm7.json',\n",
       " 'comm8.json',\n",
       " 'comm9.json',\n",
       " 'download-commentary.ipynb',\n",
       " 'file-operation.ipynb',\n",
       " 'get-all-commentaries-old.ipynb',\n",
       " 'get-all-commentaries.ipynb',\n",
       " 'json-from-file.ipynb',\n",
       " 'json-store',\n",
       " 'match-ids.ipynb',\n",
       " 'match_ids.json',\n",
       " 'new.json',\n",
       " 'remove-html.ipynb']"
      ]
     },
     "execution_count": 3,
     "metadata": {},
     "output_type": "execute_result"
    }
   ],
   "source": [
    "from os import *\n",
    "\n",
    "eval('getcwd()')\n",
    "\n",
    "dir_name = \"json-store\"\n",
    "mkdir(dir_name)\n",
    "listdir()\n"
   ]
  },
  {
   "cell_type": "code",
   "execution_count": 4,
   "metadata": {},
   "outputs": [],
   "source": [
    "rmdir(dir_name)"
   ]
  },
  {
   "cell_type": "code",
   "execution_count": 5,
   "metadata": {},
   "outputs": [
    {
     "data": {
      "text/plain": [
       "['.ipynb_checkpoints',\n",
       " 'comm0.json',\n",
       " 'comm1.json',\n",
       " 'comm10.json',\n",
       " 'comm11.json',\n",
       " 'comm2.json',\n",
       " 'comm3.json',\n",
       " 'comm4.json',\n",
       " 'comm5.json',\n",
       " 'comm6.json',\n",
       " 'comm7.json',\n",
       " 'comm8.json',\n",
       " 'comm9.json',\n",
       " 'download-commentary.ipynb',\n",
       " 'file-operation.ipynb',\n",
       " 'get-all-commentaries-old.ipynb',\n",
       " 'get-all-commentaries.ipynb',\n",
       " 'json-from-file.ipynb',\n",
       " 'match-ids.ipynb',\n",
       " 'match_ids.json',\n",
       " 'new.json',\n",
       " 'remove-html.ipynb']"
      ]
     },
     "execution_count": 5,
     "metadata": {},
     "output_type": "execute_result"
    }
   ],
   "source": [
    "listdir()"
   ]
  },
  {
   "cell_type": "code",
   "execution_count": 9,
   "metadata": {},
   "outputs": [
    {
     "ename": "NameError",
     "evalue": "name 'os' is not defined",
     "output_type": "error",
     "traceback": [
      "\u001b[0;31m---------------------------------------------------------------------------\u001b[0m",
      "\u001b[0;31mNameError\u001b[0m                                 Traceback (most recent call last)",
      "\u001b[0;32m<ipython-input-9-381d40565f85>\u001b[0m in \u001b[0;36m<module>\u001b[0;34m\u001b[0m\n\u001b[0;32m----> 1\u001b[0;31m \u001b[0mos\u001b[0m\u001b[0;34m.\u001b[0m\u001b[0mmkdir\u001b[0m\u001b[0;34m(\u001b[0m\u001b[0;34m'commentaries1'\u001b[0m\u001b[0;34m)\u001b[0m\u001b[0;34m\u001b[0m\u001b[0;34m\u001b[0m\u001b[0m\n\u001b[0m",
      "\u001b[0;31mNameError\u001b[0m: name 'os' is not defined"
     ]
    }
   ],
   "source": [
    "mkdir('commentaries1')"
   ]
  },
  {
   "cell_type": "code",
   "execution_count": 10,
   "metadata": {},
   "outputs": [],
   "source": [
    "chdir('commentaries1')"
   ]
  },
  {
   "cell_type": "code",
   "execution_count": 13,
   "metadata": {},
   "outputs": [
    {
     "data": {
      "text/plain": [
       "[]"
      ]
     },
     "execution_count": 13,
     "metadata": {},
     "output_type": "execute_result"
    }
   ],
   "source": [
    "listdir()"
   ]
  }
 ],
 "metadata": {
  "kernelspec": {
   "display_name": "Python 3",
   "language": "python",
   "name": "python3"
  },
  "language_info": {
   "codemirror_mode": {
    "name": "ipython",
    "version": 3
   },
   "file_extension": ".py",
   "mimetype": "text/x-python",
   "name": "python",
   "nbconvert_exporter": "python",
   "pygments_lexer": "ipython3",
   "version": "3.6.7"
  }
 },
 "nbformat": 4,
 "nbformat_minor": 2
}
