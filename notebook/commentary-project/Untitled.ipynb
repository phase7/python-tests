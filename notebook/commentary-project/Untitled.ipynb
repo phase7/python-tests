{
 "cells": [
  {
   "cell_type": "code",
<<<<<<< HEAD
   "execution_count": 1,
   "metadata": {},
   "outputs": [],
   "source": [
    "import os"
   ]
  },
  {
   "cell_type": "code",
   "execution_count": 4,
   "metadata": {},
   "outputs": [
    {
     "data": {
      "text/plain": [
       "False"
      ]
     },
     "execution_count": 4,
     "metadata": {},
     "output_type": "execute_result"
    }
   ],
   "source": [
    "not os.path.exists('commentaries1')"
=======
   "execution_count": 3,
   "metadata": {},
   "outputs": [
    {
     "name": "stdout",
     "output_type": "stream",
     "text": [
      "Bangladesh Tri-Nation Series, 1st match: Bangladesh v Zimbabwe at Dhaka, Jan 15, 2018\n",
      "Bangladesh Tri-Nation Series, 3rd match: Bangladesh v Sri Lanka at Dhaka, Jan 19, 2018\n",
      "Bangladesh Tri-Nation Series, 5th match: Bangladesh v Zimbabwe at Dhaka, Jan 23, 2018\n",
      "Bangladesh Tri-Nation Series, 6th match: Bangladesh v Sri Lanka at Dhaka, Jan 25, 2018\n",
      "Bangladesh Tri-Nation Series, Final: Bangladesh v Sri Lanka at Dhaka, Jan 27, 2018\n",
      "Bangladesh tour of West Indies and United States of America, 1st ODI: West Indies v Bangladesh at Providence, Jul 22, 2018\n",
      "Bangladesh tour of West Indies and United States of America, 2nd ODI: West Indies v Bangladesh at Providence, Jul 25, 2018\n",
      "Bangladesh tour of West Indies and United States of America, 3rd ODI: West Indies v Bangladesh at Basseterre, Jul 28, 2018\n",
      "Asia Cup, 1st Match, Group B: Bangladesh v Sri Lanka at Dubai (DSC), Sep 15, 2018\n",
      "Asia Cup, 6th Match, Group B: Afghanistan v Bangladesh at Abu Dhabi, Sep 20, 2018\n",
      "Asia Cup, 1st Match, Super Four: Bangladesh v India at Dubai (DSC), Sep 21, 2018\n",
      "Asia Cup, 4th Match, Super Four: Afghanistan v Bangladesh at Abu Dhabi, Sep 23, 2018\n",
      "Asia Cup, 6th Match, Super Four: Bangladesh v Pakistan at Abu Dhabi, Sep 26, 2018\n",
      "Asia Cup, Final: Bangladesh v India at Dubai (DSC), Sep 28, 2018\n",
      "Zimbabwe tour of Bangladesh, 1st ODI: Bangladesh v Zimbabwe at Dhaka, Oct 21, 2018\n",
      "Zimbabwe tour of Bangladesh, 2nd ODI: Bangladesh v Zimbabwe at Chattogram, Oct 24, 2018\n",
      "Zimbabwe tour of Bangladesh, 3rd ODI: Bangladesh v Zimbabwe at Chattogram, Oct 26, 2018\n",
      "West Indies tour of Bangladesh, 1st ODI: Bangladesh v West Indies at Dhaka, Dec 9, 2018\n",
      "West Indies tour of Bangladesh, 2nd ODI: Bangladesh v West Indies at Dhaka, Dec 11, 2018\n",
      "West Indies tour of Bangladesh, 3rd ODI: Bangladesh v West Indies at Sylhet, Dec 14, 2018\n",
      "Bangladesh tour of New Zealand, 1st ODI: New Zealand v Bangladesh at Napier, Feb 13, 2019\n",
      "Bangladesh tour of New Zealand, 2nd ODI: New Zealand v Bangladesh at Christchurch, Feb 16, 2019\n",
      "Bangladesh tour of New Zealand, 3rd ODI: New Zealand v Bangladesh at Dunedin, Feb 20, 2019\n",
      "Ireland Tri-Nation Series, 2nd Match: Bangladesh v West Indies at Dublin, May 7, 2019\n",
      "Ireland Tri-Nation Series, 5th Match: Bangladesh v West Indies at Dublin (Malahide), May 13, 2019\n",
      "Ireland Tri-Nation Series, 6th Match: Ireland v Bangladesh at Dublin, May 15, 2019\n",
      "Ireland Tri-Nation Series, Final: Bangladesh v West Indies at Dublin (Malahide), May 17, 2019\n",
      "ICC Cricket World Cup, 5th match: Bangladesh v South Africa at The Oval, Jun 2, 2019\n",
      "ICC Cricket World Cup, 9th match: Bangladesh v New Zealand at The Oval, Jun 5, 2019\n"
     ]
    }
   ],
   "source": [
    "import requests\n",
    "import json\n",
    "with open(\"match_ids.json\", \"r\") as file:\n",
    "    matches = json.load(file)\n",
    "    for id in matches:\n",
    "        apistr = 'http://www.espncricinfo.com/series/engine/match/'+str(id)+'.json'\n",
    "        r = requests.get('http://www.espncricinfo.com/series/engine/match/'+str(id)+'.json')\n",
    "        data = r.json()\n",
    "        print (data['description'])"
>>>>>>> 1ccfc9f98c9bb48a79b3636bb65d3c622573ea6f
   ]
  }
 ],
 "metadata": {
  "kernelspec": {
   "display_name": "Python 3",
   "language": "python",
   "name": "python3"
  },
  "language_info": {
   "codemirror_mode": {
    "name": "ipython",
    "version": 3
   },
   "file_extension": ".py",
   "mimetype": "text/x-python",
   "name": "python",
   "nbconvert_exporter": "python",
   "pygments_lexer": "ipython3",
<<<<<<< HEAD
   "version": "3.6.7"
=======
   "version": "3.6.8"
>>>>>>> 1ccfc9f98c9bb48a79b3636bb65d3c622573ea6f
  }
 },
 "nbformat": 4,
 "nbformat_minor": 2
}
