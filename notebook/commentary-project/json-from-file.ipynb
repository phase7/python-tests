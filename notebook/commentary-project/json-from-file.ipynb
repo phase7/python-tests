{
 "cells": [
  {
   "cell_type": "markdown",
   "metadata": {},
   "source": [
    "   ### comm4 "
   ]
  },
  {
   "cell_type": "code",
   "execution_count": 1,
   "metadata": {},
   "outputs": [],
   "source": [
    "import json\n",
    "with open('comm4.json','r') as file:\n",
    "    data = json.loads(file.read())"
   ]
  },
  {
   "cell_type": "code",
   "execution_count": 2,
   "metadata": {
    "collapsed": true
   },
   "outputs": [
    {
     "name": "stdout",
     "output_type": "stream",
     "text": [
      "101106\n",
      "101201\n",
      "101202\n",
      "101203\n",
      "101204\n",
      "101205\n",
      "101206\n",
      "101207\n",
      "101301\n",
      "101302\n",
      "101303\n",
      "101304\n",
      "101305\n",
      "101306\n",
      "101401\n",
      "101402\n",
      "101403\n",
      "101404\n",
      "101405\n",
      "101406\n",
      "101501\n",
      "101502\n",
      "101503\n",
      "101504\n",
      "101505\n"
     ]
    }
   ],
   "source": [
    "for i in range(25):\n",
    "    print(json.dumps(data[\"commentary\"][\"items\"][i][\"sequence\"]  ,indent=2))"
   ]
  },
  {
   "cell_type": "markdown",
   "metadata": {},
   "source": [
    "### comm3"
   ]
  },
  {
   "cell_type": "code",
   "execution_count": 18,
   "metadata": {
    "scrolled": true
   },
   "outputs": [
    {
     "name": "stdout",
     "output_type": "stream",
     "text": [
      "\"\"\n",
      "\"\"\n",
      "\"\"\n",
      "\"\"\n",
      "\"\"\n",
      "\"\"\n",
      "\"\"\n",
      "\"\"\n",
      "\"\"\n",
      "\"\"\n",
      "\"\"\n",
      "\"\"\n",
      "\"Shashank will keep you company for next ten overs.\"\n",
      "\"\"\n",
      "\"\"\n",
      "\"\"\n",
      "\"\"\n",
      "\"\"\n",
      "\"\"\n",
      "\"\"\n",
      "\"\"\n",
      "\"\"\n",
      "\"\"\n",
      "\"\"\n",
      "\"\"\n"
     ]
    }
   ],
   "source": [
    "with open('comm3.json','r') as file:\n",
    "    data = json.loads(file.read())\n",
    "    for i in range(25):\n",
    "        print(json.dumps(data[\"commentary\"][\"items\"][i][\"postText\"]  ,indent=2)) #testing\n",
    "        \n",
    "#     print(json.dumps(data[\"commentary\"][\"items\"][i][\"bowler\"][\"team\"][\"abbreviation\"]  ,indent=2)) #bowler's team\n",
    "#     print(json.dumps(data[\"commentary\"][\"items\"][i][\"athletesInvolved\"][0][\"name\"]  ,indent=2)) #[\"athletesInvolved\"][0] is always the bowler\n",
    "#     print(json.dumps(data[\"commentary\"][\"items\"][i][\"batsman\"][\"team\"][\"abbreviation\"]  ,indent=2)) #batsman's team\n",
    "#     print(json.dumps(data[\"commentary\"][\"items\"][i][\"athletesInvolved\"][1][\"name\"]  ,indent=2),) ##[\"athletesInvolved\"][1] is always the batsman \n",
    "#     print(json.dumps(data[\"commentary\"][\"items\"][i][\"team\"][\"name\"]  ,indent=2)) #batting team\n"
   ]
  },
  {
   "cell_type": "code",
   "execution_count": null,
   "metadata": {},
   "outputs": [],
   "source": []
  }
 ],
 "metadata": {
  "kernelspec": {
   "display_name": "Python 3",
   "language": "python",
   "name": "python3"
  },
  "language_info": {
   "codemirror_mode": {
    "name": "ipython",
    "version": 3
   },
   "file_extension": ".py",
   "mimetype": "text/x-python",
   "name": "python",
   "nbconvert_exporter": "python",
   "pygments_lexer": "ipython3",
   "version": "3.6.8"
  }
 },
 "nbformat": 4,
 "nbformat_minor": 2
}
