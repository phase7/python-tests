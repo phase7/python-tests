{
 "cells": [
  {
   "cell_type": "markdown",
   "metadata": {},
   "source": [
    "   ### comm4 "
   ]
  },
  {
   "cell_type": "code",
   "execution_count": 3,
   "metadata": {},
   "outputs": [],
   "source": [
    "import json\n",
    "with open('comm4.json','r') as file:\n",
    "    data = json.loads(file.read())"
   ]
  },
  {
   "cell_type": "code",
   "execution_count": 5,
   "metadata": {
    "scrolled": true
   },
   "outputs": [
    {
     "name": "stdout",
     "output_type": "stream",
     "text": [
      "101106\n",
      "101201\n",
      "101202\n",
      "101203\n",
      "101204\n",
      "101205\n",
      "101206\n",
      "101207\n",
      "101301\n",
      "101302\n",
      "101303\n",
      "101304\n",
      "101305\n",
      "101306\n",
      "101401\n",
      "101402\n",
      "101403\n",
      "101404\n",
      "101405\n",
      "101406\n",
      "101501\n",
      "101502\n",
      "101503\n",
      "101504\n",
      "101505\n"
     ]
    }
   ],
   "source": [
    "for i in range(25):\n",
    "    print(json.dumps(data[\"commentary\"][\"items\"][i][\"sequence\"]  ,indent=2))"
   ]
  },
  {
   "cell_type": "markdown",
   "metadata": {},
   "source": [
    "### comm3"
   ]
  },
  {
   "cell_type": "code",
   "execution_count": 6,
   "metadata": {
    "scrolled": true
   },
   "outputs": [
    {
     "name": "stdout",
     "output_type": "stream",
     "text": [
      "100708\n",
      "100801\n",
      "100802\n",
      "100803\n",
      "100804\n",
      "100805\n",
      "100806\n",
      "100901\n",
      "100902\n",
      "100903\n",
      "100904\n",
      "100905\n",
      "100906\n",
      "101001\n",
      "101002\n",
      "101003\n",
      "101004\n",
      "101005\n",
      "101006\n",
      "101007\n",
      "101101\n",
      "101102\n",
      "101103\n",
      "101104\n",
      "101105\n"
     ]
    }
   ],
   "source": [
    "with open('comm3.json','r') as file:\n",
    "    data = json.loads(file.read())\n",
    "for i in range(25):\n",
    "    print(json.dumps(data[\"commentary\"][\"items\"][i][\"sequence\"]  ,indent=2))"
   ]
  }
 ],
 "metadata": {
  "kernelspec": {
   "display_name": "Python 3",
   "language": "python",
   "name": "python3"
  },
  "language_info": {
   "codemirror_mode": {
    "name": "ipython",
    "version": 3
   },
   "file_extension": ".py",
   "mimetype": "text/x-python",
   "name": "python",
   "nbconvert_exporter": "python",
   "pygments_lexer": "ipython3",
   "version": "3.4.3"
  }
 },
 "nbformat": 4,
 "nbformat_minor": 2
}
