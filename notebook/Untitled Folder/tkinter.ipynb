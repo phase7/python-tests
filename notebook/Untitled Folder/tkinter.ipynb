{
 "cells": [
  {
   "cell_type": "code",
   "execution_count": 1,
   "metadata": {},
   "outputs": [],
   "source": [
    "from tkinter import *"
   ]
  },
  {
   "cell_type": "code",
   "execution_count": 25,
   "metadata": {},
   "outputs": [],
   "source": [
    "window = Tk()\n",
    "window.title(\"It's working\")\n",
    "lbl1 = Label(window, text=\"W.O.W\", font=(\"Monospace\"))\n",
    "lbl1.grid(column=0, row=0)\n",
    "window.geometry('700x600')\n",
    "def clicked():\n",
    "    lbl1.configure(text=\"Did you just click me?\")\n",
    "btn1 = Button(window, text=\"Surprise!\", command = clicked)\n",
    "btn1.grid(column=0,row=1)\n",
    "\n",
    "\n",
    "\n",
    "\n",
    "window.mainloop()"
   ]
  }
 ],
 "metadata": {
  "kernelspec": {
   "display_name": "Python 3",
   "language": "python",
   "name": "python3"
  },
  "language_info": {
   "codemirror_mode": {
    "name": "ipython",
    "version": 3
   },
   "file_extension": ".py",
   "mimetype": "text/x-python",
   "name": "python",
   "nbconvert_exporter": "python",
   "pygments_lexer": "ipython3",
   "version": "3.6.8"
  }
 },
 "nbformat": 4,
 "nbformat_minor": 2
}
