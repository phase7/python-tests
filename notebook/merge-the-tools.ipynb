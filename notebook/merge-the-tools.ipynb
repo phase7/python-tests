{
 "cells": [
  {
   "cell_type": "code",
   "execution_count": 23,
   "metadata": {
    "scrolled": true
   },
   "outputs": [
    {
     "name": "stdout",
     "output_type": "stream",
     "text": [
      "kilokjukjhyg\n",
      "6\n",
      "kilokjukjhyg 6\n",
      "[['j', 'u', 'd', 'u', 'i', 's'], ['o', 'l', 'a', 'e', 'o', 'r'], ['i', 'd', 'j', 'j', 'l', 'p'], ['k', 'k'], ['k', 'i', 'l', 'o', 'k', 'j']]\n"
     ]
    }
   ],
   "source": [
    "s = input()\n",
    "k = int(input())\n",
    "\n",
    "def split_s(s,k):\n",
    "    print (s,k)\n",
    "    l = len(s)\n",
    "    for i in range(0,l+1,k):\n",
    "        olst.append(list(s[i:i+k]))\n",
    "#         del olst[-1:]\n",
    "        return olst\n",
    "print(split_s(s,k))\n",
    "    "
   ]
  }
 ],
 "metadata": {
  "kernelspec": {
   "display_name": "Python 3",
   "language": "python",
   "name": "python3"
  },
  "language_info": {
   "codemirror_mode": {
    "name": "ipython",
    "version": 3
   },
   "file_extension": ".py",
   "mimetype": "text/x-python",
   "name": "python",
   "nbconvert_exporter": "python",
   "pygments_lexer": "ipython3",
   "version": "3.4.3"
  }
 },
 "nbformat": 4,
 "nbformat_minor": 2
}
