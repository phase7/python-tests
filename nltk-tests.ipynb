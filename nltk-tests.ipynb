{
 "cells": [
  {
   "cell_type": "code",
   "execution_count": 1,
   "metadata": {},
   "outputs": [
    {
     "data": {
      "text/plain": [
       "'Soumya and Tamim are headed out to the middle as are the South African team. Tamim will face the first ball. His wrist must be OK. Lungi Ngidi has the new ball. Here we go.\\n\\n<strong>10.22am</strong> The teams are out on the ground for the anthems.\\n\\nNews from the South African camp regarding Hashim Amla\\'s health. Proteas team manager, Dr Mohammed Moosajee explained:  \"Hashim hasn\\'t fully recovered from the blow sustained to the helmet during the match against England on Thursday and is not available for selection for the match today. With the quick turnaround between the two matches, he is being rested as a precaution, based on our post-match re-assessment. We are hopeful that he will make a full recovery to be available for selection for our next match against India.'"
      ]
     },
     "execution_count": 1,
     "metadata": {},
     "output_type": "execute_result"
    }
   ],
   "source": [
    "import  string\n",
    "from bs4 import BeautifulSoup as bsp\n",
    "import nltk\n",
    "from nltk.tokenize import sent_tokenize, word_tokenize\n",
    "from nltk.corpus import stopwords\n",
    "text = \"Soumya and Tamim are headed out to the middle as are the South African team. Tamim will face the first ball. His wrist must be OK. Lungi Ngidi has the new ball. Here we go.\\n\\n<strong>10.22am</strong> The teams are out on the ground for the anthems.\\n\\nNews from the South African camp regarding Hashim Amla's health. Proteas team manager, Dr Mohammed Moosajee explained:  \\\"Hashim hasn't fully recovered from the blow sustained to the helmet during the match against England on Thursday and is not available for selection for the match today. With the quick turnaround between the two matches, he is being rested as a precaution, based on our post-match re-assessment. We are hopeful that he will make a full recovery to be available for selection for our next match against India.\"\n",
    "text"
   ]
  },
  {
   "cell_type": "markdown",
   "metadata": {},
   "source": [
    "## Remove HTML Tags"
   ]
  },
  {
   "cell_type": "code",
   "execution_count": 2,
   "metadata": {},
   "outputs": [],
   "source": [
    "text = bsp(text, 'lxml').text"
   ]
  },
  {
   "cell_type": "markdown",
   "metadata": {},
   "source": [
    "## Tokenize into words"
   ]
  },
  {
   "cell_type": "code",
   "execution_count": 3,
   "metadata": {},
   "outputs": [],
   "source": [
    "words  = word_tokenize(text)\n",
    "stop_words = stopwords.words('english')"
   ]
  },
  {
   "cell_type": "markdown",
   "metadata": {},
   "source": [
    "## Remove stopwords and punctuation marks"
   ]
  },
  {
   "cell_type": "code",
   "execution_count": 4,
   "metadata": {},
   "outputs": [],
   "source": [
    "stop_words.extend((',', '.', ':', '``'))\n",
    "proc_txt = [x for x in words if x not in set(stop_words)]"
   ]
  },
  {
   "cell_type": "markdown",
   "metadata": {},
   "source": [
    "## Parts of speech tagging"
   ]
  },
  {
   "cell_type": "code",
   "execution_count": 5,
   "metadata": {},
   "outputs": [],
   "source": [
    "tagged = nltk.pos_tag(proc_txt)"
   ]
  },
  {
   "cell_type": "markdown",
   "metadata": {},
   "source": [
    "## Named Entity Recognition"
   ]
  },
  {
   "cell_type": "code",
   "execution_count": 6,
   "metadata": {},
   "outputs": [],
   "source": [
    "namedEnt = nltk.ne_chunk(tagged, binary=False)"
   ]
  },
  {
   "cell_type": "code",
   "execution_count": null,
   "metadata": {},
   "outputs": [],
   "source": [
    "namedEnt.draw()"
   ]
  }
 ],
 "metadata": {
  "kernelspec": {
   "display_name": "Python 3",
   "language": "python",
   "name": "python3"
  },
  "language_info": {
   "codemirror_mode": {
    "name": "ipython",
    "version": 3
   },
   "file_extension": ".py",
   "mimetype": "text/x-python",
   "name": "python",
   "nbconvert_exporter": "python",
   "pygments_lexer": "ipython3",
   "version": "3.6.8"
  }
 },
 "nbformat": 4,
 "nbformat_minor": 2
}
