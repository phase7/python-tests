{
 "cells": [
  {
   "cell_type": "code",
   "execution_count": 18,
   "metadata": {},
   "outputs": [
    {
     "data": {
      "text/plain": [
       "'Soumya and Tamim are headed out to the middle as are the South African team. Tamim will face the first ball. His wrist must be OK. Lungi Ngidi has the new ball. Here we go.\\n\\n<strong>10.22am</strong> The teams are out on the ground for the anthems.\\n\\nNews from the South African camp regarding Hashim Amla\\'s health. Proteas team manager, Dr Mohammed Moosajee explained:  \"Hashim hasn\\'t fully recovered from the blow sustained to the helmet during the match against England on Thursday and is not available for selection for the match today. With the quick turnaround between the two matches, he is being rested as a precaution, based on our post-match re-assessment. We are hopeful that he will make a full recovery to be available for selection for our next match against India.'"
      ]
     },
     "execution_count": 18,
     "metadata": {},
     "output_type": "execute_result"
    }
   ],
   "source": [
    "from bs4 import BeautifulSoup as bsp\n",
    "import nltk\n",
    "from nltk.tokenize import sent_tokenize, word_tokenize\n",
    "from nltk.corpus import stopwords\n",
    "text = \"Soumya and Tamim are headed out to the middle as are the South African team. Tamim will face the first ball. His wrist must be OK. Lungi Ngidi has the new ball. Here we go.\\n\\n<strong>10.22am</strong> The teams are out on the ground for the anthems.\\n\\nNews from the South African camp regarding Hashim Amla's health. Proteas team manager, Dr Mohammed Moosajee explained:  \\\"Hashim hasn't fully recovered from the blow sustained to the helmet during the match against England on Thursday and is not available for selection for the match today. With the quick turnaround between the two matches, he is being rested as a precaution, based on our post-match re-assessment. We are hopeful that he will make a full recovery to be available for selection for our next match against India.\"\n",
    "text"
   ]
  },
  {
   "cell_type": "markdown",
   "metadata": {},
   "source": [
    "## Remove HTML Tags"
   ]
  },
  {
   "cell_type": "code",
   "execution_count": 32,
   "metadata": {},
   "outputs": [],
   "source": [
    "text = bsp(text, 'lxml').text"
   ]
  },
  {
   "cell_type": "markdown",
   "metadata": {},
   "source": [
    "## Tokenize into words"
   ]
  },
  {
   "cell_type": "code",
   "execution_count": 33,
   "metadata": {},
   "outputs": [],
   "source": [
    "words  = word_tokenize(text)\n",
    "stop_words = stopwords.words('english')"
   ]
  },
  {
   "cell_type": "markdown",
   "metadata": {},
   "source": [
    "## Remove stopwords and punctuation marks"
   ]
  },
  {
   "cell_type": "code",
   "execution_count": 34,
   "metadata": {},
   "outputs": [],
   "source": [
    "stop_words.extend((',', '.', ':', '``'))\n",
    "proc_txt = [x for x in words if x not in set(stop_words)]"
   ]
  },
  {
   "cell_type": "markdown",
   "metadata": {},
   "source": [
    "## Parts of speech tagging"
   ]
  },
  {
   "cell_type": "code",
   "execution_count": 35,
   "metadata": {},
   "outputs": [],
   "source": [
    "tagged = nltk.pos_tag(proc_txt)"
   ]
  },
  {
   "cell_type": "markdown",
   "metadata": {},
   "source": [
    "## Named Entity Recognition"
   ]
  },
  {
   "cell_type": "code",
   "execution_count": 36,
   "metadata": {},
   "outputs": [],
   "source": [
    "namedEnt = nltk.ne_chunk(tagged)"
   ]
  },
  {
   "cell_type": "code",
   "execution_count": 41,
   "metadata": {},
   "outputs": [
    {
     "data": {
      "text/plain": [
       "'PERSON'"
      ]
     },
     "execution_count": 41,
     "metadata": {},
     "output_type": "execute_result"
    }
   ],
   "source": [
    "namedEnt[0].label()"
   ]
  },
  {
   "cell_type": "code",
   "execution_count": 50,
   "metadata": {},
   "outputs": [
    {
     "data": {
      "text/plain": [
       "'PERSON'"
      ]
     },
     "execution_count": 50,
     "metadata": {},
     "output_type": "execute_result"
    }
   ],
   "source": [
    "namedEnt[0].label()"
   ]
  },
  {
   "cell_type": "code",
   "execution_count": 29,
   "metadata": {},
   "outputs": [
    {
     "name": "stdout",
     "output_type": "stream",
     "text": [
      "Soumya and Tamim are headed out to the middle as are the South African team. Tamim will face the first ball. His wrist must be OK. Lungi Ngidi has the new ball. Here we go.\n",
      "\n",
      "10.22am The teams are out on the ground for the anthems.\n",
      "\n",
      "News from the South African camp regarding Hashim Amla's health. Proteas team manager, Dr Mohammed Moosajee explained:  \"Hashim hasn't fully recovered from the blow sustained to the helmet during the match against England on Thursday and is not available for selection for the match today. With the quick turnaround between the two matches, he is being rested as a precaution, based on our post-match re-assessment. We are hopeful that he will make a full recovery to be available for selection for our next match against India.\n"
     ]
    }
   ],
   "source": [
    "print (text)"
   ]
  },
  {
   "cell_type": "code",
   "execution_count": 52,
   "metadata": {
    "scrolled": true
   },
   "outputs": [],
   "source": [
    "namedEnt.draw()"
   ]
  }
 ],
 "metadata": {
  "kernelspec": {
   "display_name": "Python 3",
   "language": "python",
   "name": "python3"
  },
  "language_info": {
   "codemirror_mode": {
    "name": "ipython",
    "version": 3
   },
   "file_extension": ".py",
   "mimetype": "text/x-python",
   "name": "python",
   "nbconvert_exporter": "python",
   "pygments_lexer": "ipython3",
   "version": "3.6.8"
  }
 },
 "nbformat": 4,
 "nbformat_minor": 2
}
